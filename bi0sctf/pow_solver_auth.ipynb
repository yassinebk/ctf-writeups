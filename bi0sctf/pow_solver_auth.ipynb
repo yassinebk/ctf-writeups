{
 "cells": [
  {
   "cell_type": "code",
   "execution_count": 18,
   "metadata": {},
   "outputs": [
    {
     "name": "stdout",
     "output_type": "stream",
     "text": [
      "d3fd97\n"
     ]
    }
   ],
   "source": [
    "import hashlib\n",
    "\n",
    "\n",
    "def solvepow(x, target):\n",
    "    x = bytes.fromhex(x)\n",
    "    target = bytes.fromhex(target)\n",
    "    for i in range(256**3):\n",
    "        if hashlib.md5(x + i.to_bytes(3, \"big\")).digest() == target:\n",
    "            return hex(i)[2:]\n",
    "\n",
    "\n",
    "x = \"e65434bdfaafae0914243ee340\"\n",
    "target = \"4cb0e03803c91be109e9ac148c0efd0c\"\n",
    "print(solvepow(x, target))\n",
    "\n",
    "# htpasswd -mbc /etc/.htpasswd admin ­"
   ]
  },
  {
   "cell_type": "code",
   "execution_count": null,
   "metadata": {},
   "outputs": [],
   "source": [
    "\n",
    "#!/bin/sh\n",
    "export PYTHONDONTWRITEBYTECODE=1\n",
    "\n",
    "mv flag.txt $(head /dev/urandom | shasum | cut -d' ' -f1)\n",
    "\n",
    "htpasswd -mbc /etc/.htpasswd admin ­\n",
    "\n",
    "spawn-fcgi -s /var/run/fcgiwrap.socket -M 766 /usr/sbin/fcgiwrap \n",
    "\n",
    "/usr/sbin/nginx\n",
    "\n",
    "\n",
    "\n",
    "while true; do sleep 1; done"
   ]
  },
  {
   "attachments": {},
   "cell_type": "markdown",
   "metadata": {},
   "source": [
    "Admin  Password\n",
    "\n",
    "admin \n",
    " ­"
   ]
  },
  {
   "cell_type": "code",
   "execution_count": null,
   "metadata": {},
   "outputs": [],
   "source": [
    "def check_code(x):\n",
    "    print(f\"currency == '{code}'\")\n",
    "\n",
    "check_code(\"'' or \")"
   ]
  }
 ],
 "metadata": {
  "kernelspec": {
   "display_name": "Python 3 (ipykernel)",
   "language": "python",
   "name": "python3"
  },
  "orig_nbformat": 4
 },
 "nbformat": 4,
 "nbformat_minor": 2
}

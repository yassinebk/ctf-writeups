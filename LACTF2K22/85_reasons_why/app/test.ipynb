{
 "cells": [
  {
   "cell_type": "code",
   "execution_count": 41,
   "metadata": {},
   "outputs": [
    {
     "ename": "ValueError",
     "evalue": "bad base85 character at position 3",
     "output_type": "error",
     "traceback": [
      "\u001b[0;31m---------------------------------------------------------------------------\u001b[0m",
      "\u001b[0;31mValueError\u001b[0m                                Traceback (most recent call last)",
      "Cell \u001b[0;32mIn[41], line 5\u001b[0m\n\u001b[1;32m      2\u001b[0m \u001b[39mimport\u001b[39;00m \u001b[39mbase64\u001b[39;00m\n\u001b[1;32m      3\u001b[0m \u001b[39mimport\u001b[39;00m \u001b[39mre\u001b[39;00m\n\u001b[0;32m----> 5\u001b[0m \u001b[39mprint\u001b[39m(base64\u001b[39m.\u001b[39;49mb85decode(\u001b[39mb\u001b[39;49m\u001b[39m\"\u001b[39;49m\u001b[39mmeo\u001b[39;49m\u001b[39m\\\\\u001b[39;49;00m\u001b[39m\\\\\u001b[39;49;00m\u001b[39m'\u001b[39;49m\u001b[39m or 1=1;-- \u001b[39;49m\u001b[39m\"\u001b[39;49m))\n\u001b[1;32m      6\u001b[0m b85_string\u001b[39m=\u001b[39mbase64\u001b[39m.\u001b[39mb64decode(\u001b[39m\"\u001b[39m\u001b[39m7v1IsLfTgqxXt1P+\u001b[39m\u001b[39m\"\u001b[39m)\n\u001b[1;32m      7\u001b[0m img\u001b[39m=\u001b[39m\u001b[39mopen\u001b[39m(\u001b[39m\"\u001b[39m\u001b[39mimg.png\u001b[39m\u001b[39m\"\u001b[39m,mode\u001b[39m=\u001b[39m\u001b[39m\"\u001b[39m\u001b[39mw+\u001b[39m\u001b[39m\"\u001b[39m,encoding\u001b[39m=\u001b[39m\u001b[39m\"\u001b[39m\u001b[39mutf-8\u001b[39m\u001b[39m\"\u001b[39m)\n",
      "File \u001b[0;32m/usr/lib/python3.10/base64.py:487\u001b[0m, in \u001b[0;36mb85decode\u001b[0;34m(b)\u001b[0m\n\u001b[1;32m    485\u001b[0m     \u001b[39mfor\u001b[39;00m j, c \u001b[39min\u001b[39;00m \u001b[39menumerate\u001b[39m(chunk):\n\u001b[1;32m    486\u001b[0m         \u001b[39mif\u001b[39;00m _b85dec[c] \u001b[39mis\u001b[39;00m \u001b[39mNone\u001b[39;00m:\n\u001b[0;32m--> 487\u001b[0m             \u001b[39mraise\u001b[39;00m \u001b[39mValueError\u001b[39;00m(\u001b[39m'\u001b[39m\u001b[39mbad base85 character at position \u001b[39m\u001b[39m%d\u001b[39;00m\u001b[39m'\u001b[39m\n\u001b[1;32m    488\u001b[0m                             \u001b[39m%\u001b[39m (i \u001b[39m+\u001b[39m j)) \u001b[39mfrom\u001b[39;00m \u001b[39mNone\u001b[39m\n\u001b[1;32m    489\u001b[0m     \u001b[39mraise\u001b[39;00m\n\u001b[1;32m    490\u001b[0m \u001b[39mtry\u001b[39;00m:\n",
      "\u001b[0;31mValueError\u001b[0m: bad base85 character at position 3"
     ]
    }
   ],
   "source": [
    " # identify single quotes, and then escape them\n",
    "import base64\n",
    "import re\n",
    "\n",
    "print(base64.b85decode(b\"meo\\\\\\\\' or 1=1;-- \"))\n",
    "b85_string=base64.b64decode(\"7v1IsLfTgqxXt1P+\")\n",
    "img=open(\"img.png\",mode=\"w+\",encoding=\"utf-8\")\n",
    "img.write(b85_string.decode(\"utf-8\",\"ignore\"))\n",
    "img.close()\n",
    "b85=base64.a85encode(b85_string)\n",
    "b85_string=b85.decode(\"UTF-8\",\"ignore\")\n",
    "print(b85_string)\n",
    "b85_string = re.sub('\\\\\\\\\\\\\\\\\\\\\\\\\\'', '~', b85_string)\n",
    "b85_string = re.sub('\\'', '\\'\\'', b85_string)\n",
    "b85_string = re.sub('~', '\\'', b85_string)\n",
    "\n",
    "b85_string = re.sub('\\\\:', '~', b85_string)\n",
    "\n",
    "print(\"payload result[ \"+ b85_string+\" ]\")\n",
    "\n",
    "print()\n",
    "\n"
   ]
  },
  {
   "attachments": {},
   "cell_type": "markdown",
   "metadata": {},
   "source": [
    "\\\\\\\\\\\\\\\\\\\\\\\\\\'\n",
    "select parent as PID from images where b85_image = '{}' AND ((select active from posts where id=PID) = TRUE)"
   ]
  }
 ],
 "metadata": {
  "kernelspec": {
   "display_name": "Python 3 (ipykernel)",
   "language": "python",
   "name": "python3"
  },
  "language_info": {
   "codemirror_mode": {
    "name": "ipython",
    "version": 3
   },
   "file_extension": ".py",
   "mimetype": "text/x-python",
   "name": "python",
   "nbconvert_exporter": "python",
   "pygments_lexer": "ipython3",
   "version": "3.10.9"
  },
  "orig_nbformat": 4
 },
 "nbformat": 4,
 "nbformat_minor": 2
}
